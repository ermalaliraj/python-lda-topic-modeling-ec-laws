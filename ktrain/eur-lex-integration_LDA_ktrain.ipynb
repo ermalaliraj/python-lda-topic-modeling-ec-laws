{
 "cells": [
  {
   "cell_type": "code",
   "execution_count": 1,
   "metadata": {},
   "outputs": [],
   "source": [
    "import os\n",
    "import pickle\n",
    "import re\n",
    "import xml.etree.ElementTree as ET\n",
    "from collections import defaultdict\n",
    "\n",
    "import ktrain\n",
    "import nltk\n",
    "import numpy as np\n",
    "from nltk.corpus import stopwords\n",
    "from nltk.stem import WordNetLemmatizer"
   ]
  },
  {
   "cell_type": "code",
   "execution_count": 2,
   "metadata": {},
   "outputs": [
    {
     "name": "stderr",
     "output_type": "stream",
     "text": [
      "[nltk_data] Downloading package stopwords to\n",
      "[nltk_data]     C:\\Users\\Ermal\\AppData\\Roaming\\nltk_data...\n",
      "[nltk_data]   Package stopwords is already up-to-date!\n",
      "[nltk_data] Downloading package wordnet to\n",
      "[nltk_data]     C:\\Users\\Ermal\\AppData\\Roaming\\nltk_data...\n",
      "[nltk_data]   Package wordnet is already up-to-date!\n"
     ]
    },
    {
     "data": {
      "text/plain": [
       "True"
      ]
     },
     "execution_count": 2,
     "metadata": {},
     "output_type": "execute_result"
    }
   ],
   "source": [
    "nltk.download('stopwords')\n",
    "nltk.download('wordnet')\n"
   ]
  },
  {
   "cell_type": "code",
   "execution_count": 3,
   "metadata": {},
   "outputs": [],
   "source": [
    "def to_string_utf8(document):\n",
    "    return document.decode('utf-8')\n",
    "\n",
    "def get_doc_data(filepath):\n",
    "    tree = ET.parse(filepath)\n",
    "    document = ET.tostring(tree.getroot(), encoding='utf-8', method='text')\n",
    "    document = to_string_utf8(document)\n",
    "    document = re.sub('[ \\t\\n]+', ' ', document)\n",
    "    return document\n",
    "\n",
    "def clean(text):\n",
    "    lemmatizer = WordNetLemmatizer()\n",
    "    stopwordList = set(stopwords.words(\"english\"))\n",
    "    words = text.lower().split(\" \")\n",
    "    cleaned_text = \"\"\n",
    "    for word in words:\n",
    "        if word in stopwordList:\n",
    "            continue\n",
    "        cleaned_text += lemmatizer.lemmatize(word) + \" \"\n",
    "\n",
    "    return cleaned_text"
   ]
  },
  {
   "cell_type": "code",
   "execution_count": 4,
   "metadata": {},
   "outputs": [],
   "source": [
    "path = \"C:/Users/admin/Documents/Projects/accademic/python/bigdata_and_ai/ai/eur-lex-integration/output/oj\""
   ]
  },
  {
   "cell_type": "code",
   "execution_count": 5,
   "metadata": {},
   "outputs": [],
   "source": [
    "documents = []\n",
    "for doc in os.listdir(path):\n",
    "    if doc.endswith(\".xml\"):\n",
    "        # if doc.startswith(\"reg_\" + year) and doc.endswith(\".xml\"):\n",
    "        try:\n",
    "            documents.append([doc, clean(get_doc_data(os.path.join(path, doc)))])\n",
    "        except:\n",
    "            pass\n",
    "\n",
    "documents = np.array(documents)"
   ]
  },
  {
   "cell_type": "code",
   "execution_count": 6,
   "metadata": {},
   "outputs": [
    {
     "data": {
      "text/plain": [
       "('Building Model with Total documents:', 1331)"
      ]
     },
     "execution_count": 6,
     "metadata": {},
     "output_type": "execute_result"
    }
   ],
   "source": [
    "\"Building Model with Total documents:\", len(documents)"
   ]
  },
  {
   "cell_type": "code",
   "execution_count": 7,
   "metadata": {},
   "outputs": [
    {
     "name": "stdout",
     "output_type": "stream",
     "text": [
      "n_topics automatically set to 25\n",
      "lang: en\n",
      "preprocessing texts...\n",
      "fitting model...\n",
      "iteration: 1 of max_iter: 5\n",
      "iteration: 2 of max_iter: 5\n",
      "iteration: 3 of max_iter: 5\n",
      "iteration: 4 of max_iter: 5\n",
      "iteration: 5 of max_iter: 5\n",
      "done.\n",
      "done.\n",
      "Wall time: 1min 25s\n"
     ]
    }
   ],
   "source": [
    "%%time\n",
    "model = ktrain.text.get_topic_model(documents[:, 1], n_topics=None, n_features=10000)\n",
    "model.build(documents[:, 1], threshold=0.1)"
   ]
  },
  {
   "cell_type": "code",
   "execution_count": 15,
   "metadata": {},
   "outputs": [
    {
     "name": "stdout",
     "output_type": "stream",
     "text": [
      "Total topics:  25\n"
     ]
    }
   ],
   "source": [
    "topics = model.get_topics()\n",
    "print(\"Total topics: \", len(topics))"
   ]
  },
  {
   "cell_type": "code",
   "execution_count": 8,
   "metadata": {},
   "outputs": [
    {
     "name": "stdout",
     "output_type": "stream",
     "text": [
      "topic:1 | count:319 | fishing agency management board paragraph joint vessel activity national including\n",
      "topic:4 | count:230 | food mrls substance product maximum residue efsa existing risk safety\n",
      "topic:17 | count:94 | financial programme support fund action objective cap development including payment\n",
      "topic:19 | count:91 | entity person body legal natural listed economic cfsp good data\n",
      "topic:14 | count:73 | product animal control point paragraph competent act health plant medicinal\n",
      "topic:0 | count:70 | undertaking product period producer import price market custom country industry\n",
      "topic:21 | count:70 | institution paragraph financial risk competent point resolution exposure requirement credit\n",
      "topic:10 | count:58 | substance restriction directive eec chemical classification agency mixture acer packaging\n",
      "topic:5 | count:56 | vehicle emission directive type-approval technical manufacturer transport engine requirement approval\n",
      "topic:24 | count:50 | data personal right processing protection law person national subject purpose\n",
      "topic:9 | count:50 | breeding paragraph aid mark trade point animal replaced registered wine\n",
      "topic:8 | count:41 | air aviation energy climate emission aircraft directive greenhouse gas requirement\n",
      "topic:13 | count:36 | relevant market service assessment power requirement capacity paragraph operator point\n",
      "topic:22 | count:25 | border national etias data visa point third-country travel central schengen\n",
      "topic:23 | count:19 | flavouring republic list african central substance fge congo group arm\n",
      "topic:12 | count:17 | reporting data ecb statistical central agent bank credit national ncbs\n",
      "topic:2 | count:12 | geographical spirit indication drink labelling protection specification presentation alcohol description\n",
      "topic:6 | count:11 | dprk korea north vessel paragraph prohibited transfer point competent financial\n",
      "topic:20 | count:6 | eures worker labour partner milk job network employer organisation mobility\n",
      "topic:3 | count:2 | safety conformity component subsystem body assessment notified installation market notifying\n",
      "topic:16 | count:1 | holder pension allowance data death public regulations holders sickness orphan\n"
     ]
    }
   ],
   "source": [
    "\"All Topics (topicId | nrOfDocumentsTalkingAboutThisTopic | distributionOfWordsForTheTopic):\"\n",
    "model.print_topics(show_counts=True)"
   ]
  },
  {
   "cell_type": "code",
   "execution_count": 9,
   "metadata": {},
   "outputs": [
    {
     "name": "stdout",
     "output_type": "stream",
     "text": [
      "reducing to 2 dimensions...[t-SNE] Computing 91 nearest neighbors...\n",
      "[t-SNE] Indexed 1331 samples in 0.001s...\n",
      "[t-SNE] Computed neighbors for 1331 samples in 0.046s...\n",
      "[t-SNE] Computed conditional probabilities for sample 1000 / 1331\n",
      "[t-SNE] Computed conditional probabilities for sample 1331 / 1331\n",
      "[t-SNE] Mean sigma: 0.001558\n",
      "[t-SNE] KL divergence after 250 iterations with early exaggeration: 54.859138\n",
      "[t-SNE] KL divergence after 1000 iterations: 0.353915\n",
      "done.\n"
     ]
    },
    {
     "data": {
      "text/html": [
       "\n",
       "    <div class=\"bk-root\">\n",
       "        <a href=\"https://bokeh.org\" target=\"_blank\" class=\"bk-logo bk-logo-small bk-logo-notebook\"></a>\n",
       "        <span id=\"1001\">Loading BokehJS ...</span>\n",
       "    </div>"
      ]
     },
     "metadata": {},
     "output_type": "execute_result"
    },
    {
     "data": {},
     "metadata": {},
     "output_type": "display_data"
    },
    {
     "data": {
      "text/html": [
       "\n",
       "\n",
       "\n",
       "\n",
       "\n",
       "\n",
       "  <div class=\"bk-root\" id=\"ed3af94a-2765-4247-a49a-d91fdb4174a6\" data-root-id=\"1004\"></div>\n"
      ]
     },
     "metadata": {},
     "output_type": "execute_result"
    },
    {
     "data": {},
     "metadata": {
      "application/vnd.bokehjs_exec.v0+json": {
       "id": "1004"
      }
     },
     "output_type": "display_data"
    }
   ],
   "source": [
    "model.visualize_documents(doc_topics=model.get_doctopics())"
   ]
  },
  {
   "cell_type": "code",
   "execution_count": 13,
   "metadata": {},
   "outputs": [
    {
     "name": "stdout",
     "output_type": "stream",
     "text": [
      "reducing to 2 dimensions...[t-SNE] Computing 91 nearest neighbors...\n",
      "[t-SNE] Indexed 643 samples in 0.000s...\n",
      "[t-SNE] Computed neighbors for 643 samples in 0.014s...\n",
      "[t-SNE] Computed conditional probabilities for sample 643 / 643\n",
      "[t-SNE] Mean sigma: 0.001083\n",
      "[t-SNE] KL divergence after 250 iterations with early exaggeration: 49.011196\n",
      "[t-SNE] KL divergence after 1000 iterations: 0.194515\n",
      "done.\n"
     ]
    },
    {
     "data": {
      "text/html": [
       "\n",
       "    <div class=\"bk-root\">\n",
       "        <a href=\"https://bokeh.org\" target=\"_blank\" class=\"bk-logo bk-logo-small bk-logo-notebook\"></a>\n",
       "        <span id=\"1289\">Loading BokehJS ...</span>\n",
       "    </div>"
      ]
     },
     "metadata": {},
     "output_type": "execute_result"
    },
    {
     "data": {},
     "metadata": {},
     "output_type": "display_data"
    },
    {
     "data": {
      "text/html": [
       "\n",
       "\n",
       "\n",
       "\n",
       "\n",
       "\n",
       "  <div class=\"bk-root\" id=\"4ce1f7ca-40b7-4ef9-9758-8330df196da6\" data-root-id=\"1292\"></div>\n"
      ]
     },
     "metadata": {},
     "output_type": "execute_result"
    },
    {
     "data": {},
     "metadata": {
      "application/vnd.bokehjs_exec.v0+json": {
       "id": "1292"
      }
     },
     "output_type": "display_data"
    }
   ],
   "source": [
    "small_set_topics = model.get_doctopics(topic_ids=[1, 4, 17])\n",
    "model.visualize_documents(doc_topics=small_set_topics)"
   ]
  },
  {
   "cell_type": "code",
   "execution_count": 16,
   "metadata": {},
   "outputs": [
    {
     "data": {
      "text/plain": [
       "('Topic nr: ',\n",
       " 24,\n",
       " 'Words: ',\n",
       " 'data personal right processing protection law person national subject purpose')"
      ]
     },
     "execution_count": 16,
     "metadata": {},
     "output_type": "execute_result"
    }
   ],
   "source": [
    "text = \"Do not collect data them without user's permission. Sensible data must authorize before processing\"\n",
    "pred = np.argmax(model.predict([clean(text)]))\n",
    "\"Topic nr: \", pred, \"Words: \", topics[pred]"
   ]
  },
  {
   "cell_type": "code",
   "execution_count": 17,
   "metadata": {},
   "outputs": [
    {
     "data": {
      "text/plain": [
       "('Total topics: ', 21)"
      ]
     },
     "execution_count": 17,
     "metadata": {},
     "output_type": "execute_result"
    }
   ],
   "source": [
    "topic_to_document = defaultdict(list)\n",
    "for i in documents:\n",
    "    pred = model.predict([i[1]])\n",
    "    topic_to_document[np.argmax(pred)].append(i[0])\n",
    "(\"Total topics: \", len(topic_to_document))"
   ]
  },
  {
   "cell_type": "code",
   "execution_count": 18,
   "metadata": {},
   "outputs": [
    {
     "name": "stdout",
     "output_type": "stream",
     "text": [
      "Topic 24 - Documents list: ['reg_2016_679_akn.xml', 'reg_2016_nr-026_seq-0003_akn.xml', 'reg_2016_nr-119_seq-0001_akn.xml', 'reg_2016_nr-135_seq-0004_akn.xml', 'reg_2016_nr-183_seq-0001_akn.xml']\n",
      "Topic 8 - Documents list: ['reg_2016_nr-003_seq-0001_akn.xml', 'reg_2016_nr-003_seq-0002_akn.xml', 'reg_2016_nr-056_seq-0001_akn.xml', 'reg_2016_nr-091_seq-0001_akn.xml', 'reg_2016_nr-101_seq-0003_akn.xml']\n",
      "Topic 10 - Documents list: ['reg_2016_nr-009_seq-0001_akn.xml', 'reg_2016_nr-040_seq-0004_akn.xml', 'reg_2016_nr-055_seq-0003_akn.xml', 'reg_2016_nr-080_seq-0003_akn.xml', 'reg_2016_nr-144_seq-0006_akn.xml']\n",
      "Topic 14 - Documents list: ['reg_2016_nr-009_seq-0002_akn.xml', 'reg_2016_nr-013_seq-0002_akn.xml', 'reg_2016_nr-067_seq-0003_akn.xml', 'reg_2016_nr-084_seq-0001_akn.xml', 'reg_2016_nr-135_seq-0003_akn.xml']\n",
      "Topic 19 - Documents list: ['reg_2016_nr-010_seq-0001_akn.xml', 'reg_2016_nr-012_seq-0001_akn.xml', 'reg_2016_nr-040_seq-0001_akn.xml', 'reg_2016_nr-052_seq-0011_akn.xml', 'reg_2016_nr-068_seq-0001_akn.xml']\n"
     ]
    }
   ],
   "source": [
    "from itertools import islice\n",
    "def take(n, iterable):\n",
    "    \"Return first n items of the iterable as a list\"\n",
    "    return list(islice(iterable, n))\n",
    "\n",
    "topic_nrOfDocuments = defaultdict(list)\n",
    "for key, value in take(5, topic_to_document.items()):\n",
    "    print(\"Topic {} - Documents list: {}\".format(key, value[:5]))\n",
    "    topic_nrOfDocuments[key].append(len(value))"
   ]
  },
  {
   "cell_type": "code",
   "execution_count": 19,
   "metadata": {},
   "outputs": [],
   "source": [
    "import matplotlib.pyplot as plt"
   ]
  },
  {
   "cell_type": "code",
   "execution_count": 20,
   "metadata": {},
   "outputs": [],
   "source": [
    "names = list(topic_to_document.keys())\n",
    "values = list(topic_to_document.values())\n",
    "y_values = [len(val) for val in values]"
   ]
  },
  {
   "cell_type": "code",
   "execution_count": 21,
   "metadata": {},
   "outputs": [
    {
     "data": {
      "image/png": "[encoded data removed]",
      "text/plain": [
       "<Figure size 432x288 with 1 Axes>"
      ]
     },
     "metadata": {
      "needs_background": "light"
     },
     "output_type": "display_data"
    }
   ],
   "source": [
    "plt.bar(names, y_values, label='data science')\n",
    "plt.xlabel('Topic Number')\n",
    "plt.ylabel('Documents topic is present')\n",
    "plt.title('Topic / Documents is present')\n",
    "plt.grid(True)"
   ]
  },
  {
   "cell_type": "code",
   "execution_count": null,
   "metadata": {},
   "outputs": [],
   "source": []
  }
 ],
 "metadata": {
  "kernelspec": {
   "display_name": "Python 3",
   "language": "python",
   "name": "python3"
  },
  "language_info": {
   "codemirror_mode": {
    "name": "ipython",
    "version": 3
   },
   "file_extension": ".py",
   "mimetype": "text/x-python",
   "name": "python",
   "nbconvert_exporter": "python",
   "pygments_lexer": "ipython3",
   "version": "3.8.5"
  }
 },
 "nbformat": 4,
 "nbformat_minor": 4
}
